{
 "cells": [
  {
   "cell_type": "code",
   "execution_count": 1,
   "id": "775ff26c-27fb-4a56-bef6-e2408aada800",
   "metadata": {},
   "outputs": [
    {
     "name": "stdout",
     "output_type": "stream",
     "text": [
      "Hello Python World !!..\n"
     ]
    }
   ],
   "source": [
    "print(\"Hello Python World !!..\")"
   ]
  },
  {
   "cell_type": "code",
   "execution_count": 2,
   "id": "f0fba259-c057-4732-ae90-e0e477350cf1",
   "metadata": {},
   "outputs": [
    {
     "name": "stdout",
     "output_type": "stream",
     "text": [
      "5\n"
     ]
    }
   ],
   "source": [
    "a = 5;\n",
    "print(a)"
   ]
  },
  {
   "cell_type": "code",
   "execution_count": 3,
   "id": "414a82c3-ca5d-4af8-841f-76b2acc28735",
   "metadata": {},
   "outputs": [
    {
     "name": "stdout",
     "output_type": "stream",
     "text": [
      "10\n"
     ]
    }
   ],
   "source": [
    "ball = 10;\n",
    "print(ball);"
   ]
  },
  {
   "cell_type": "code",
   "execution_count": 4,
   "id": "5cbd4998-0c6b-4daf-9bc4-d4280c86cfa9",
   "metadata": {},
   "outputs": [
    {
     "name": "stdout",
     "output_type": "stream",
     "text": [
      "200\n"
     ]
    }
   ],
   "source": [
    "baT = 200;\n",
    "print(baT);"
   ]
  },
  {
   "cell_type": "code",
   "execution_count": 5,
   "id": "b4a0e980-28c2-43c2-bf58-bd1704195486",
   "metadata": {},
   "outputs": [
    {
     "name": "stdout",
     "output_type": "stream",
     "text": [
      "Sanjeev\n"
     ]
    }
   ],
   "source": [
    "_name = 'Sanjeev';\n",
    "print(_name);"
   ]
  },
  {
   "cell_type": "code",
   "execution_count": 6,
   "id": "28112844-286e-4dd9-82bc-9118d5e272b8",
   "metadata": {},
   "outputs": [
    {
     "name": "stdout",
     "output_type": "stream",
     "text": [
      "12\n"
     ]
    }
   ],
   "source": [
    "for_ = 12;\n",
    "print(for_);"
   ]
  },
  {
   "cell_type": "code",
   "execution_count": 7,
   "id": "75df4fce-51d7-4965-89a2-e1e563969562",
   "metadata": {},
   "outputs": [
    {
     "name": "stdout",
     "output_type": "stream",
     "text": [
      "\n",
      "Here is a list of the Python keywords.  Enter any keyword to get more help.\n",
      "\n",
      "False               class               from                or\n",
      "None                continue            global              pass\n",
      "True                def                 if                  raise\n",
      "and                 del                 import              return\n",
      "as                  elif                in                  try\n",
      "assert              else                is                  while\n",
      "async               except              lambda              with\n",
      "await               finally             nonlocal            yield\n",
      "break               for                 not                 \n",
      "\n"
     ]
    }
   ],
   "source": [
    "help(\"keywords\");"
   ]
  },
  {
   "cell_type": "code",
   "execution_count": 8,
   "id": "9f012357-68e0-4015-99d6-39a9546ef68b",
   "metadata": {},
   "outputs": [
    {
     "name": "stdout",
     "output_type": "stream",
     "text": [
      "Class definitions\n",
      "*****************\n",
      "\n",
      "A class definition defines a class object (see section The standard\n",
      "type hierarchy):\n",
      "\n",
      "   classdef    ::= [decorators] \"class\" classname [inheritance] \":\" suite\n",
      "   inheritance ::= \"(\" [argument_list] \")\"\n",
      "   classname   ::= identifier\n",
      "\n",
      "A class definition is an executable statement.  The inheritance list\n",
      "usually gives a list of base classes (see Metaclasses for more\n",
      "advanced uses), so each item in the list should evaluate to a class\n",
      "object which allows subclassing.  Classes without an inheritance list\n",
      "inherit, by default, from the base class \"object\"; hence,\n",
      "\n",
      "   class Foo:\n",
      "       pass\n",
      "\n",
      "is equivalent to\n",
      "\n",
      "   class Foo(object):\n",
      "       pass\n",
      "\n",
      "The class’s suite is then executed in a new execution frame (see\n",
      "Naming and binding), using a newly created local namespace and the\n",
      "original global namespace. (Usually, the suite contains mostly\n",
      "function definitions.)  When the class’s suite finishes execution, its\n",
      "execution frame is discarded but its local namespace is saved. [5] A\n",
      "class object is then created using the inheritance list for the base\n",
      "classes and the saved local namespace for the attribute dictionary.\n",
      "The class name is bound to this class object in the original local\n",
      "namespace.\n",
      "\n",
      "The order in which attributes are defined in the class body is\n",
      "preserved in the new class’s \"__dict__\".  Note that this is reliable\n",
      "only right after the class is created and only for classes that were\n",
      "defined using the definition syntax.\n",
      "\n",
      "Class creation can be customized heavily using metaclasses.\n",
      "\n",
      "Classes can also be decorated: just like when decorating functions,\n",
      "\n",
      "   @f1(arg)\n",
      "   @f2\n",
      "   class Foo: pass\n",
      "\n",
      "is roughly equivalent to\n",
      "\n",
      "   class Foo: pass\n",
      "   Foo = f1(arg)(f2(Foo))\n",
      "\n",
      "The evaluation rules for the decorator expressions are the same as for\n",
      "function decorators.  The result is then bound to the class name.\n",
      "\n",
      "Changed in version 3.9: Classes may be decorated with any valid\n",
      "\"assignment_expression\". Previously, the grammar was much more\n",
      "restrictive; see **PEP 614** for details.\n",
      "\n",
      "**Programmer’s note:** Variables defined in the class definition are\n",
      "class attributes; they are shared by instances.  Instance attributes\n",
      "can be set in a method with \"self.name = value\".  Both class and\n",
      "instance attributes are accessible through the notation “\"self.name\"”,\n",
      "and an instance attribute hides a class attribute with the same name\n",
      "when accessed in this way.  Class attributes can be used as defaults\n",
      "for instance attributes, but using mutable values there can lead to\n",
      "unexpected results.  Descriptors can be used to create instance\n",
      "variables with different implementation details.\n",
      "\n",
      "See also:\n",
      "\n",
      "  **PEP 3115** - Metaclasses in Python 3000\n",
      "     The proposal that changed the declaration of metaclasses to the\n",
      "     current syntax, and the semantics for how classes with\n",
      "     metaclasses are constructed.\n",
      "\n",
      "  **PEP 3129** - Class Decorators\n",
      "     The proposal that added class decorators.  Function and method\n",
      "     decorators were introduced in **PEP 318**.\n",
      "\n",
      "Related help topics: CLASSES, SPECIALMETHODS\n",
      "\n"
     ]
    }
   ],
   "source": [
    "help(\"class\");"
   ]
  },
  {
   "cell_type": "code",
   "execution_count": 1,
   "id": "968e3176-9145-478b-94de-3049792aed41",
   "metadata": {},
   "outputs": [
    {
     "name": "stdout",
     "output_type": "stream",
     "text": [
      "Sum of 11 and 22 is 33\n"
     ]
    }
   ],
   "source": [
    "# This program to sum of two numbers\n",
    "a = 11;\n",
    "b = 22;\n",
    "\n",
    "# Add the numbers\n",
    "sum = a + b;\n",
    "\n",
    "# Print the Sum of Numbers\n",
    "print('Sum of {0} and {1} is {2}'.format(a, b, sum));"
   ]
  }
 ],
 "metadata": {
  "kernelspec": {
   "display_name": "Python 3 (ipykernel)",
   "language": "python",
   "name": "python3"
  },
  "language_info": {
   "codemirror_mode": {
    "name": "ipython",
    "version": 3
   },
   "file_extension": ".py",
   "mimetype": "text/x-python",
   "name": "python",
   "nbconvert_exporter": "python",
   "pygments_lexer": "ipython3",
   "version": "3.11.7"
  }
 },
 "nbformat": 4,
 "nbformat_minor": 5
}
